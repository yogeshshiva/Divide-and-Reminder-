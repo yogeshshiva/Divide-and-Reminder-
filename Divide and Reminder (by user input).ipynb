{
 "cells": [
  {
   "cell_type": "markdown",
   "id": "1ac0f94a",
   "metadata": {},
   "source": [
    "# Divide"
   ]
  },
  {
   "cell_type": "code",
   "execution_count": 5,
   "id": "f225dc47",
   "metadata": {},
   "outputs": [
    {
     "name": "stdout",
     "output_type": "stream",
     "text": [
      "Enter your First number.\n",
      "253\n",
      "Enter your Second number.\n",
      "8\n",
      "31.625\n"
     ]
    }
   ],
   "source": [
    "num1 = int(input(\"Enter your First number.\\n\"))     # output is always comes floating number with this code.\n",
    "num2 = int(input(\"Enter your Second number.\\n\"))    # here output is 31.625\n",
    "\n",
    "a = num1/num2\n",
    "print(a)"
   ]
  },
  {
   "cell_type": "code",
   "execution_count": 6,
   "id": "0f816d7b",
   "metadata": {},
   "outputs": [
    {
     "name": "stdout",
     "output_type": "stream",
     "text": [
      "Enter your First number.\n",
      "253\n",
      "Enter your Second number.\n",
      "8\n",
      "31\n"
     ]
    }
   ],
   "source": [
    "num1 = int(input(\"Enter your First number.\\n\"))     # here output is only integer value with this code.\n",
    "num2 = int(input(\"Enter your Second number.\\n\"))    # here output is only 31 this is diference above question and this.\n",
    "\n",
    "a = num1//num2\n",
    "print(a)"
   ]
  },
  {
   "cell_type": "markdown",
   "id": "bccd9bcb",
   "metadata": {},
   "source": [
    "# Reminder"
   ]
  },
  {
   "cell_type": "code",
   "execution_count": 9,
   "id": "7632c8ef",
   "metadata": {},
   "outputs": [
    {
     "name": "stdout",
     "output_type": "stream",
     "text": [
      "Enter your First number.225\n",
      "Enter your Second number.13\n",
      "4\n"
     ]
    }
   ],
   "source": [
    "num1 = int(input(\"Enter your First number.\"))    \n",
    "num2 = int(input(\"Enter your Second number.\"))\n",
    "\n",
    "a = num1%num2\n",
    "print(a)"
   ]
  }
 ],
 "metadata": {
  "kernelspec": {
   "display_name": "Python 3 (ipykernel)",
   "language": "python",
   "name": "python3"
  },
  "language_info": {
   "codemirror_mode": {
    "name": "ipython",
    "version": 3
   },
   "file_extension": ".py",
   "mimetype": "text/x-python",
   "name": "python",
   "nbconvert_exporter": "python",
   "pygments_lexer": "ipython3",
   "version": "3.9.12"
  }
 },
 "nbformat": 4,
 "nbformat_minor": 5
}
